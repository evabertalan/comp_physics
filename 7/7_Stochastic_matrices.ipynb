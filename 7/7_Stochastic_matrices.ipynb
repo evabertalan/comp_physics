{
 "cells": [
  {
   "cell_type": "code",
   "execution_count": 1,
   "metadata": {
    "collapsed": true
   },
   "outputs": [],
   "source": [
    "import numpy as np\n",
    "import matplotlib.pyplot as plt\n",
    "%matplotlib inline"
   ]
  },
  {
   "cell_type": "code",
   "execution_count": 2,
   "metadata": {
    "collapsed": true
   },
   "outputs": [],
   "source": [
    "def get_eigen(M):\n",
    "    w, v = np.linalg.eig(M)\n",
    "    v = v.T\n",
    "    eig_val = np.sort(w)[::-1]\n",
    "    eig_vec = np.array([v[np.where(eig_val[i] == w)] for i in range(len(eig_val))])\n",
    "    return eig_val, eig_vec\n",
    "\n",
    "def print_eigen(eig_val, eig_vec):\n",
    "    for w, v in zip(eig_val, eig_vec):\n",
    "        print('Eigenvalue: ', np.around(w, 3), '; With eigenvector: ', np.around(v, 3))\n",
    "\n",
    "def plot_spectrum(eig_val):\n",
    "    an = np.linspace(0, 2 * np.pi, 100)\n",
    "    fig, ax = plt.subplots()\n",
    "    ax.plot(np.cos(an), np.sin(an), c='k', linewidth=0.5)\n",
    "    ax.scatter(eig_val.real, eig_val.imag)\n",
    "    ax.axis('equal')"
   ]
  },
  {
   "cell_type": "markdown",
   "metadata": {},
   "source": [
    "## Problem 7.1"
   ]
  },
  {
   "cell_type": "markdown",
   "metadata": {},
   "source": [
    "### a)"
   ]
  },
  {
   "cell_type": "markdown",
   "metadata": {},
   "source": [
    "$$T=\\begin{bmatrix}\n",
    "    0 & 0 & 1/4 & 0 & 0 \\\\\n",
    "    0 & 0 & 1/4 & 0 & 0 \\\\\n",
    "    1/2 & 1 & 0 & 1/2 & 0 \\\\\n",
    "    0 & 0 & 1/4 & 0 & 0 \\\\\n",
    "    1/2 & 0 & 1/4 & 1/2 & 1 \\\\\n",
    "\\end{bmatrix}$$"
   ]
  },
  {
   "cell_type": "markdown",
   "metadata": {},
   "source": [
    "### b)"
   ]
  },
  {
   "cell_type": "markdown",
   "metadata": {},
   "source": [
    "Every entires of the matrix are non-negative and the column sum is 1 for all column"
   ]
  },
  {
   "cell_type": "code",
   "execution_count": 3,
   "metadata": {
    "collapsed": true
   },
   "outputs": [],
   "source": [
    "T1 = np.array([[0, 0 ,1/4, 0, 0],\n",
    "              [0, 0 ,1/4, 0, 0],\n",
    "              [1/2, 1, 0, 1/2, 0],\n",
    "              [0, 0, 1/4, 0, 0],\n",
    "              [1/2, 0, 1/4, 1/2, 1]])"
   ]
  },
  {
   "cell_type": "markdown",
   "metadata": {},
   "source": [
    "####  Determine the eigenvalues:"
   ]
  },
  {
   "cell_type": "code",
   "execution_count": 4,
   "metadata": {},
   "outputs": [
    {
     "name": "stdout",
     "output_type": "stream",
     "text": [
      "Eigenvalue:  1.0 ; With eigenvector:  [[0. 0. 0. 0. 1.]]\n",
      "Eigenvalue:  0.707 ; With eigenvector:  [[-0.149 -0.149 -0.422 -0.149  0.869]]\n",
      "Eigenvalue:  0.0 ; With eigenvector:  [[ 0.707 -0.     0.    -0.707 -0.   ]]\n",
      "Eigenvalue:  -0.0 ; With eigenvector:  [[-0.5  0.5  0.  -0.5  0.5]]\n",
      "Eigenvalue:  -0.707 ; With eigenvector:  [[ 0.301  0.301 -0.852  0.301 -0.052]]\n"
     ]
    }
   ],
   "source": [
    "eig_val, eig_vec = get_eigen(T1)\n",
    "print_eigen(eig_val, eig_vec)"
   ]
  },
  {
   "cell_type": "markdown",
   "metadata": {},
   "source": [
    "Rescaled versions of eignevectors:\n",
    "$$\n",
    "\\begin{align}\n",
    "\\lambda_1 = 1 && \\vec{u_1} = (0, 0, 0, 0, 1) \\\\\n",
    "\\lambda_2 = 0.71 &&\\vec{u_2} = (-0.17, -0.17, -0.49, -0.17, 1) \\\\\n",
    "\\lambda_3 = 0 &&\\vec{u_3} = (-1, 0, 0, 1, 0) \\\\\n",
    "\\lambda_4 = -4.21*10^{-17} &&\\vec{u_4} = (-2, 1, 0, 0, 1) \\\\\n",
    "\\lambda_5 = -0.71 &&\\vec{u_5} = (-5.83, -5.83, 16.49, -5.83, 1) \\\\\n",
    "\\end{align}\n",
    "$$"
   ]
  },
  {
   "cell_type": "markdown",
   "metadata": {},
   "source": [
    "#### Plot the spectrum of T:\n",
    "The spectrum of a matrix is the set of its eigenvalues"
   ]
  },
  {
   "cell_type": "code",
   "execution_count": 5,
   "metadata": {},
   "outputs": [
    {
     "data": {
      "image/png": "[encoded data removed]",
      "text/plain": [
       "<matplotlib.figure.Figure at 0x10d9a8b38>"
      ]
     },
     "metadata": {},
     "output_type": "display_data"
    }
   ],
   "source": [
    "plot_spectrum(eig_val)"
   ]
  },
  {
   "cell_type": "markdown",
   "metadata": {},
   "source": [
    "#### Confirm the statements of the Perron–Frobenius theorem:\n",
    "A real square matrix with positive entries has a unique largest real eigenvalue and that the corresponding eigenvector can be chosen to have strictly positive components."
   ]
  },
  {
   "cell_type": "markdown",
   "metadata": {},
   "source": [
    "* T is a non-negative matrix\n",
    "* spectral radius r = max|$\\lambda_i$| --> $\\lambda_1 = 1$ every oyher eignevalue is smaller then this\n",
    "* r is an eigenvalue of T, and all components of the corresponding and left and right eignevectors are positive --> ????? [0. 0. 0. 0. 1.] all values should be bigger then 0... ?\n",
    "* all other eigenvectors must have at least one negative component --> ok\n",
    "* satisfies the inequalitie: $\\min\\limits_{i}\\sum\\limits_{j}{a_{ij}}\\leq r \\leq \\max\\limits_{i}\\sum\\limits_{j}{a_{ij}}$\n",
    "$$\n",
    "\\min\\limits_{i}\\sum\\limits_{j}{a_{ij}} = \\frac{1}{4} \\\\\n",
    "\\max\\limits_{i}\\sum\\limits_{j}{a_{ij}} = \\frac{9}{4}\n",
    "$$"
   ]
  },
  {
   "cell_type": "markdown",
   "metadata": {},
   "source": [
    "#### Stationary distribution of the Markov chain: \n",
    "The one which belongs to eigenvalue: $\\lambda_1 = 1 \\quad \\vec{u_1} = (0, 0, 0, 0, 1)$\n",
    "* The stationary distribution is state five; which means i==j the cat and the mouse are in the same box"
   ]
  },
  {
   "cell_type": "markdown",
   "metadata": {},
   "source": [
    "## Problem 7.2 Stochastic matrices"
   ]
  },
  {
   "cell_type": "markdown",
   "metadata": {},
   "source": [
    "### a) Periodic, deterministic Markov chain"
   ]
  },
  {
   "cell_type": "code",
   "execution_count": 6,
   "metadata": {},
   "outputs": [],
   "source": [
    "T2 = np.array([[0,0,0,1],\n",
    "              [1,0,0,0],\n",
    "              [0,1,0,0],\n",
    "              [0,0,1,0]])"
   ]
  },
  {
   "cell_type": "markdown",
   "metadata": {},
   "source": [
    "#### Draw the graph of the Markov chain:"
   ]
  },
  {
   "cell_type": "code",
   "execution_count": null,
   "metadata": {
    "collapsed": true
   },
   "outputs": [],
   "source": []
  },
  {
   "cell_type": "markdown",
   "metadata": {},
   "source": [
    "#### Determine the eigenvalues and eigenvectors of T:"
   ]
  },
  {
   "cell_type": "code",
   "execution_count": 7,
   "metadata": {},
   "outputs": [
    {
     "name": "stdout",
     "output_type": "stream",
     "text": [
      "Eigenvalue:  (1+0j) ; With eigenvector:  [[-0.5+0.j -0.5+0.j -0.5+0.j -0.5+0.j]]\n",
      "Eigenvalue:  1j ; With eigenvector:  [[ 0. -0.5j -0.5+0.j  -0. +0.5j  0.5+0.j ]]\n",
      "Eigenvalue:  -1j ; With eigenvector:  [[ 0. +0.5j -0.5-0.j  -0. -0.5j  0.5-0.j ]]\n",
      "Eigenvalue:  (-1+0j) ; With eigenvector:  [[-0.5+0.j  0.5+0.j -0.5+0.j  0.5+0.j]]\n"
     ]
    }
   ],
   "source": [
    "eig_val2, eig_vec2 = get_eigen(T2)\n",
    "print_eigen(eig_val2, eig_vec2)"
   ]
  },
  {
   "cell_type": "markdown",
   "metadata": {},
   "source": [
    "#### Plot the spectrum on the complex plane:"
   ]
  },
  {
   "cell_type": "code",
   "execution_count": 8,
   "metadata": {},
   "outputs": [
    {
     "data": {
      "image/png": "[encoded data removed]",
      "text/plain": [
       "<matplotlib.figure.Figure at 0x115eeda90>"
      ]
     },
     "metadata": {},
     "output_type": "display_data"
    }
   ],
   "source": [
    "plot_spectrum(eig_val2)"
   ]
  },
  {
   "cell_type": "markdown",
   "metadata": {},
   "source": [
    "#### Verify that there is one largest eigenvalue that is real, positive, and simple, and that this is the only eigenvalue with non-negative eigenvectors:"
   ]
  },
  {
   "cell_type": "code",
   "execution_count": null,
   "metadata": {
    "collapsed": true
   },
   "outputs": [],
   "source": []
  },
  {
   "cell_type": "markdown",
   "metadata": {},
   "source": [
    "#### Which symmetry does the spectrum exhibit? What does this imply for lim𝑘→∞ 𝑇𝑘? "
   ]
  },
  {
   "cell_type": "code",
   "execution_count": null,
   "metadata": {
    "collapsed": true
   },
   "outputs": [],
   "source": []
  },
  {
   "cell_type": "markdown",
   "metadata": {},
   "source": [
    "#### Is the Markov chain ergodic?"
   ]
  },
  {
   "cell_type": "code",
   "execution_count": null,
   "metadata": {
    "collapsed": true
   },
   "outputs": [],
   "source": []
  },
  {
   "cell_type": "markdown",
   "metadata": {},
   "source": [
    "### b) Aperiodic, non-equilibrium Markov chain"
   ]
  },
  {
   "cell_type": "code",
   "execution_count": 9,
   "metadata": {
    "collapsed": true
   },
   "outputs": [],
   "source": [
    "T3 = np.array([[0,0,0,1],\n",
    "               [1/3,0,0,0],\n",
    "               [1/3,1,0,0],\n",
    "               [1/3,0,1,0]])"
   ]
  },
  {
   "cell_type": "markdown",
   "metadata": {},
   "source": [
    "#### Draw the graph of the Markov chain:"
   ]
  },
  {
   "cell_type": "code",
   "execution_count": null,
   "metadata": {
    "collapsed": true
   },
   "outputs": [],
   "source": []
  },
  {
   "cell_type": "markdown",
   "metadata": {},
   "source": [
    "#### Determine the eigenvalues and eigenvectors of T:"
   ]
  },
  {
   "cell_type": "code",
   "execution_count": 10,
   "metadata": {},
   "outputs": [
    {
     "name": "stdout",
     "output_type": "stream",
     "text": [
      "Eigenvalue:  (1+0j) ; With eigenvector:  [[0.626+0.j 0.209+0.j 0.417+0.j 0.626+0.j]]\n",
      "Eigenvalue:  (-0.141+0.667j) ; With eigenvector:  [[-0.658+0.j     0.067+0.315j  0.498+0.124j  0.093-0.438j]]\n",
      "Eigenvalue:  (-0.141-0.667j) ; With eigenvector:  [[-0.658-0.j     0.067-0.315j  0.498-0.124j  0.093+0.438j]]\n",
      "Eigenvalue:  (-0.718+0j) ; With eigenvector:  [[ 0.753+0.j -0.349+0.j  0.137+0.j -0.541+0.j]]\n"
     ]
    }
   ],
   "source": [
    "eig_val3, eig_vec3 = get_eigen(T3)\n",
    "print_eigen(eig_val3, eig_vec3)"
   ]
  },
  {
   "cell_type": "markdown",
   "metadata": {},
   "source": [
    "#### Plot the spectrum on the complex plane:"
   ]
  },
  {
   "cell_type": "code",
   "execution_count": 11,
   "metadata": {},
   "outputs": [
    {
     "data": {
      "image/png": "[encoded data removed]",
      "text/plain": [
       "<matplotlib.figure.Figure at 0x115eed518>"
      ]
     },
     "metadata": {},
     "output_type": "display_data"
    }
   ],
   "source": [
    "plot_spectrum(eig_val3)"
   ]
  },
  {
   "cell_type": "markdown",
   "metadata": {},
   "source": [
    "#### Discuss the changes in the spectrum and how this affects the convergence to the stationary distribution:"
   ]
  },
  {
   "cell_type": "code",
   "execution_count": null,
   "metadata": {
    "collapsed": true
   },
   "outputs": [],
   "source": []
  },
  {
   "cell_type": "markdown",
   "metadata": {},
   "source": [
    "#### Why does this distribution not describe an equilibrium situation?"
   ]
  },
  {
   "cell_type": "code",
   "execution_count": null,
   "metadata": {
    "collapsed": true
   },
   "outputs": [],
   "source": []
  },
  {
   "cell_type": "code",
   "execution_count": null,
   "metadata": {
    "collapsed": true
   },
   "outputs": [],
   "source": []
  }
 ],
 "metadata": {
  "kernelspec": {
   "display_name": "Python 3",
   "language": "python",
   "name": "python3"
  },
  "language_info": {
   "codemirror_mode": {
    "name": "ipython",
    "version": 3
   },
   "file_extension": ".py",
   "mimetype": "text/x-python",
   "name": "python",
   "nbconvert_exporter": "python",
   "pygments_lexer": "ipython3",
   "version": "3.6.3"
  }
 },
 "nbformat": 4,
 "nbformat_minor": 2
}
